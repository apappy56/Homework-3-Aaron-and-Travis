{
 "cells": [
  {
   "cell_type": "code",
   "execution_count": null,
   "metadata": {
    "collapsed": true
   },
   "outputs": [],
   "source": [
    "# Assignment 3\n",
    "# Introduction to functions\n",
    "# Due at 8am on February 27, 2018\n",
    "\n",
    "# Notes about assignment:\n",
    "# - To ensure good commenting practice, one point from each\n",
    "# question will be awarded for sufficient comments.\n",
    "# - Example input data is provided, however, the functions\n",
    "# should be made flexible to handle alternative data. For example,\n",
    "# lists with more or fewer elements.\n",
    "# - All questions in this assignment need to be divided up between\n",
    "# the two partners. Ensure that the total points for each partner\n",
    "# add up to the same value.\n",
    "# - All partners need to participate in question 17.\n"
   ]
  },
  {
   "cell_type": "code",
   "execution_count": 35,
   "metadata": {},
   "outputs": [
    {
     "ename": "SyntaxError",
     "evalue": "invalid syntax (<ipython-input-35-356f7bcd5bff>, line 10)",
     "output_type": "error",
     "traceback": [
      "\u001b[1;36m  File \u001b[1;32m\"<ipython-input-35-356f7bcd5bff>\"\u001b[1;36m, line \u001b[1;32m10\u001b[0m\n\u001b[1;33m    def shift_list(data)\u001b[0m\n\u001b[1;37m                        ^\u001b[0m\n\u001b[1;31mSyntaxError\u001b[0m\u001b[1;31m:\u001b[0m invalid syntax\n"
     ]
    }
   ],
   "source": [
    "# Question 1: (2 points)\n",
    "# create a function called \"shift_list\" that\n",
    "# that takes one argument, a list of numbers.\n",
    "# this function will add 3 to each element in a list.\n",
    "\n",
    "\n",
    "# example data to use\n",
    "data = [1,6,7,6,2,4,5,3]    \n",
    "# call function\n",
    "def shift_list(data)\n",
    "\n"
   ]
  },
  {
   "cell_type": "code",
   "execution_count": 80,
   "metadata": {},
   "outputs": [
    {
     "name": "stdout",
     "output_type": "stream",
     "text": [
      "['Can', 'Uni', 'Spa', 'Ger', 'Bra', 'Chi']\n"
     ]
    }
   ],
   "source": [
    "# Question 2: (2 points)\n",
    "# create a function called \"truncate_list\" that\n",
    "# that takes one argument, a list of strings.\n",
    "# this function will truncate all elements in \n",
    "# the list by 3 characters\n",
    "\n",
    "\n",
    "# example data to use\n",
    "countries = ['Canada','United States','Spain','Germany','Brazil','China']\n",
    "# call function\n",
    "def truncate_list(countries1):\n",
    "    newl=[] \n",
    "    for x in countries:\n",
    "        newl.append(x[:3])\n",
    "    return newl\n",
    "print(truncate_list(countries))\n",
    "#I used the lambda function to abreviate the countries in the list"
   ]
  },
  {
   "cell_type": "code",
   "execution_count": null,
   "metadata": {
    "collapsed": true
   },
   "outputs": [],
   "source": [
    "# Question 3: (2 points)\n",
    "# create a function called \"is_even_length_dict\" that\n",
    "# that takes one argument, a dictionary.\n",
    "# this function will return True if the number of keys in the dictionary  \n",
    "# is even and return False if the number of keys in the dictionary is odd.\n",
    "\n",
    "\n",
    "# example data to use\n",
    "data_dict = {'Age':[77,56,34,45,52,61],\n",
    "             'BMI':[22,25,28,26,21,24],\n",
    "             'Height':[65,72,68,65,61,69]}\n",
    "# call function\n",
    "is_even_length_dict(data_dict)\n"
   ]
  },
  {
   "cell_type": "code",
   "execution_count": 84,
   "metadata": {},
   "outputs": [
    {
     "name": "stdout",
     "output_type": "stream",
     "text": [
      "['True']\n"
     ]
    }
   ],
   "source": [
    "# Question 4: (2 points)\n",
    "# create a function called \"is_even_length_list\" that\n",
    "# that takes one argument, a list.\n",
    "# this function will return True if the length of the list  \n",
    "# is even and return False if the length of the list is odd.\n",
    "\n",
    "\n",
    "# example data to use\n",
    "data = [1,6,7,6,2,4,5,3]    \n",
    "# call function\n",
    "def is_even_length_list(data1):\n",
    "    newl=[]\n",
    "    if len(data1) % 2 == 0:\n",
    "        newl.append('True')\n",
    "    else:\n",
    "        newl.append('False')\n",
    "    return newl\n",
    "print is_even_length_list(data)\n",
    "\n",
    "#the percent sign is used the find the remainder if you divide each number in the list by 2. if it returns as 0 then the \n",
    "#number has to be even"
   ]
  },
  {
   "cell_type": "code",
<<<<<<< HEAD
   "execution_count": 1,
   "metadata": {},
   "outputs": [
    {
     "name": "stdout",
     "output_type": "stream",
     "text": [
      "('Age', 54)\n",
      "('BMI', 24)\n",
      "('Height', 66)\n"
     ]
    }
   ],
=======
   "execution_count": null,
   "metadata": {
    "collapsed": true
   },
   "outputs": [],
>>>>>>> d092e82bd064b924d0c7d893089b0469e22da5b1
   "source": [
    "# Question 5: (5 points)\n",
    "# create a function called \"average_dict\" that\n",
    "# that takes one argument, a dictionary where the\n",
    "# keys are variable names and the values are lists of numbers.\n",
    "# this function will print the key, and the average of the values\n",
    "# for that key, respectively.\n",
    "\n",
    "\n",
    "# example data to use\n",
    "data_dict = {'Age':[77,56,34,45,52,61],\n",
    "             'BMI':[22,25,28,26,21,24],\n",
    "             'Height':[65,72,68,65,61,69]}\n",
<<<<<<< HEAD
    "\n",
    "def average_dict(mydata):   #Define function\n",
    "  \n",
    "    for key, value in data_dict.items():\n",
    "        average_value = (sum(value))/(len(value))    #mean\n",
    "        print (key, average_value)\n",
    "        \n",
    "average_dict(data_dict)     #call function\n",
    "\n",
    "\n",
    "\n",
    "\n",
    "\n"
=======
    "# call function\n",
    "average_dict(data_dict)\n"
>>>>>>> d092e82bd064b924d0c7d893089b0469e22da5b1
   ]
  },
  {
   "cell_type": "code",
   "execution_count": 150,
   "metadata": {},
   "outputs": [
    {
     "ename": "NameError",
     "evalue": "global name 'factor' is not defined",
     "output_type": "error",
     "traceback": [
      "\u001b[1;31m---------------------------------------------------------------------------\u001b[0m",
      "\u001b[1;31mNameError\u001b[0m                                 Traceback (most recent call last)",
      "\u001b[1;32m<ipython-input-150-a595bb2642c0>\u001b[0m in \u001b[0;36m<module>\u001b[1;34m()\u001b[0m\n\u001b[0;32m     19\u001b[0m         \u001b[0mnewd\u001b[0m\u001b[1;33m.\u001b[0m\u001b[0mappend\u001b[0m\u001b[1;33m(\u001b[0m\u001b[0mrange1\u001b[0m\u001b[1;33m)\u001b[0m\u001b[1;33m\u001b[0m\u001b[0m\n\u001b[0;32m     20\u001b[0m     \u001b[1;32mreturn\u001b[0m \u001b[0mnewd\u001b[0m\u001b[1;33m\u001b[0m\u001b[0m\n\u001b[1;32m---> 21\u001b[1;33m \u001b[1;32mprint\u001b[0m \u001b[0mrange_dict\u001b[0m\u001b[1;33m(\u001b[0m\u001b[0mdata_dict\u001b[0m\u001b[1;33m)\u001b[0m\u001b[1;33m\u001b[0m\u001b[0m\n\u001b[0m\u001b[0;32m     22\u001b[0m \u001b[1;31m#I used two seperate list to create dictionary of the max and min values. I was not sure how to add the keys in\u001b[0m\u001b[1;33m\u001b[0m\u001b[1;33m\u001b[0m\u001b[0m\n",
      "\u001b[1;32m<ipython-input-150-a595bb2642c0>\u001b[0m in \u001b[0;36mrange_dict\u001b[1;34m(data1)\u001b[0m\n\u001b[0;32m     15\u001b[0m \u001b[1;32mdef\u001b[0m \u001b[0mrange_dict\u001b[0m\u001b[1;33m(\u001b[0m\u001b[0mdata1\u001b[0m\u001b[1;33m)\u001b[0m\u001b[1;33m:\u001b[0m\u001b[1;33m\u001b[0m\u001b[0m\n\u001b[0;32m     16\u001b[0m     \u001b[0mnewd\u001b[0m\u001b[1;33m=\u001b[0m\u001b[1;33m{\u001b[0m\u001b[1;33m}\u001b[0m\u001b[1;33m\u001b[0m\u001b[0m\n\u001b[1;32m---> 17\u001b[1;33m     \u001b[0mrange1\u001b[0m\u001b[1;33m=\u001b[0m\u001b[1;33m(\u001b[0m\u001b[0mmax\u001b[0m\u001b[1;33m(\u001b[0m\u001b[0mdata1\u001b[0m\u001b[1;33m[\u001b[0m\u001b[0mfactor\u001b[0m\u001b[1;33m]\u001b[0m\u001b[1;33m)\u001b[0m\u001b[1;33m-\u001b[0m\u001b[0mmin\u001b[0m\u001b[1;33m(\u001b[0m\u001b[0mdata\u001b[0m\u001b[1;33m[\u001b[0m\u001b[0mfactor\u001b[0m\u001b[1;33m]\u001b[0m\u001b[1;33m)\u001b[0m\u001b[1;33m)\u001b[0m\u001b[1;33m\u001b[0m\u001b[0m\n\u001b[0m\u001b[0;32m     18\u001b[0m     \u001b[1;32mfor\u001b[0m \u001b[0mfactors\u001b[0m \u001b[1;32min\u001b[0m \u001b[0mdata1\u001b[0m\u001b[1;33m:\u001b[0m\u001b[1;33m\u001b[0m\u001b[0m\n\u001b[0;32m     19\u001b[0m         \u001b[0mnewd\u001b[0m\u001b[1;33m.\u001b[0m\u001b[0mappend\u001b[0m\u001b[1;33m(\u001b[0m\u001b[0mrange1\u001b[0m\u001b[1;33m)\u001b[0m\u001b[1;33m\u001b[0m\u001b[0m\n",
      "\u001b[1;31mNameError\u001b[0m: global name 'factor' is not defined"
     ]
    }
   ],
   "source": [
    "# Question 6: (5 points)\n",
    "# create a function called \"range_dict\" that\n",
    "# that takes one argument, a dictionary where the\n",
    "# keys are variable names and the values are lists of numbers.\n",
    "# this function will print the key, and the range (maximum - minimum) \n",
    "# of the values for each key, respectively.\n",
    "\n",
    "#WORK ON THIS PROBLEM LATER\n",
    "\n",
    "# example data to use\n",
    "data_dict = {'Age':[77,56,34,45,52,61],\n",
    "             'BMI':[22,25,28,26,21,24],\n",
    "             'Height':[65,72,68,65,61,69]}\n",
    "# call function\n",
    "def range_dict(data1):\n",
    "    newd={}\n",
    "    range1=(max(data1[factor])-min(data[factor]))\n",
    "    for factors in data1:\n",
    "        newd.append(range1) \n",
    "    return newd\n",
    "print range_dict(data_dict)\n",
    "#I used two seperate list to create dictionary of the max and min values. I was not sure how to add the keys in or call\n",
    "#keys from the data_dict"
   ]
  },
  {
   "cell_type": "code",
   "execution_count": null,
   "metadata": {
    "collapsed": true
   },
   "outputs": [],
   "source": [
    "# Question 7: (5 points)\n",
    "# create a function called \"frequency_list\" that\n",
    "# that takes one argument, a list of strings.\n",
    "# this function will identify the unique strings in \n",
    "# the list and count the frequency of that element in \n",
    "# the list. frequency_list will return a dictionary\n",
    "# such that the key = string and the value = frequency\n",
    "\n",
    "\n",
    "# example data to use\n",
    "factor_list = ['A','B','A','D','C','E','E','D','C','D',\n",
    "               'C','B','E','D','F','G','E','D','F','C',\n",
    "               'G','C','C','F']\n",
    "\n",
    "# call function\n",
    "factor_frequency = frequency_list(factor_list)\n"
   ]
  },
  {
   "cell_type": "code",
   "execution_count": 167,
   "metadata": {},
   "outputs": [
    {
     "ename": "ValueError",
     "evalue": "need more than 0 values to unpack",
     "output_type": "error",
     "traceback": [
      "\u001b[1;31m---------------------------------------------------------------------------\u001b[0m",
      "\u001b[1;31mValueError\u001b[0m                                Traceback (most recent call last)",
      "\u001b[1;32m<ipython-input-167-509f0587281a>\u001b[0m in \u001b[0;36m<module>\u001b[1;34m()\u001b[0m\n\u001b[0;32m     30\u001b[0m         \u001b[1;33m[\u001b[0m\u001b[0mdictionary\u001b[0m\u001b[1;33m[\u001b[0m\u001b[0mfactor\u001b[0m\u001b[1;33m]\u001b[0m\u001b[1;33m]\u001b[0m\u001b[1;33m.\u001b[0m\u001b[0mappend\u001b[0m\u001b[1;33m(\u001b[0m\u001b[1;33m[\u001b[0m\u001b[0mvalue\u001b[0m\u001b[1;33m]\u001b[0m\u001b[1;33m)\u001b[0m\u001b[1;33m\u001b[0m\u001b[0m\n\u001b[0;32m     31\u001b[0m     \u001b[1;32mreturn\u001b[0m \u001b[0mdictionary\u001b[0m\u001b[1;33m\u001b[0m\u001b[0m\n\u001b[1;32m---> 32\u001b[1;33m \u001b[1;32mprint\u001b[0m \u001b[0mmake_factor_values_dict\u001b[0m\u001b[1;33m(\u001b[0m\u001b[0mfactor_list\u001b[0m\u001b[1;33m,\u001b[0m \u001b[0mvalues_list\u001b[0m\u001b[1;33m)\u001b[0m\u001b[1;33m\u001b[0m\u001b[0m\n\u001b[0m\u001b[0;32m     33\u001b[0m \u001b[1;33m\u001b[0m\u001b[0m\n\u001b[0;32m     34\u001b[0m \u001b[1;33m\u001b[0m\u001b[0m\n",
      "\u001b[1;32m<ipython-input-167-509f0587281a>\u001b[0m in \u001b[0;36mmake_factor_values_dict\u001b[1;34m(facto, valu)\u001b[0m\n\u001b[0;32m     27\u001b[0m         \u001b[1;33m[\u001b[0m\u001b[0mdictionary\u001b[0m\u001b[1;33m[\u001b[0m\u001b[0mfactor\u001b[0m\u001b[1;33m]\u001b[0m\u001b[1;33m]\u001b[0m\u001b[1;33m.\u001b[0m\u001b[0mappend\u001b[0m\u001b[1;33m(\u001b[0m\u001b[1;33m[\u001b[0m\u001b[0mvalue\u001b[0m\u001b[1;33m]\u001b[0m\u001b[1;33m)\u001b[0m\u001b[1;33m\u001b[0m\u001b[0m\n\u001b[0;32m     28\u001b[0m     \u001b[1;32melse\u001b[0m\u001b[1;33m:\u001b[0m\u001b[1;33m\u001b[0m\u001b[0m\n\u001b[1;32m---> 29\u001b[1;33m         \u001b[1;33m[\u001b[0m\u001b[0mdictionary\u001b[0m\u001b[1;33m[\u001b[0m\u001b[0mfactor\u001b[0m\u001b[1;33m]\u001b[0m\u001b[1;33m]\u001b[0m\u001b[1;33m=\u001b[0m\u001b[1;33m[\u001b[0m\u001b[1;33m]\u001b[0m\u001b[1;33m\u001b[0m\u001b[0m\n\u001b[0m\u001b[0;32m     30\u001b[0m         \u001b[1;33m[\u001b[0m\u001b[0mdictionary\u001b[0m\u001b[1;33m[\u001b[0m\u001b[0mfactor\u001b[0m\u001b[1;33m]\u001b[0m\u001b[1;33m]\u001b[0m\u001b[1;33m.\u001b[0m\u001b[0mappend\u001b[0m\u001b[1;33m(\u001b[0m\u001b[1;33m[\u001b[0m\u001b[0mvalue\u001b[0m\u001b[1;33m]\u001b[0m\u001b[1;33m)\u001b[0m\u001b[1;33m\u001b[0m\u001b[0m\n\u001b[0;32m     31\u001b[0m     \u001b[1;32mreturn\u001b[0m \u001b[0mdictionary\u001b[0m\u001b[1;33m\u001b[0m\u001b[0m\n",
      "\u001b[1;31mValueError\u001b[0m: need more than 0 values to unpack"
     ]
    }
   ],
   "source": [
    "# Question 8: (5 points)\n",
    "# create a function called \"make_factor_values_dict\" that\n",
    "# that takes two arguments, a list of factors and a list of values.\n",
    "# this function will identify the unique strings in \n",
    "# the list of factors as keys. For each key, a list of values \n",
    "# corresponding to the factor level will be assigned.\n",
    "# make_factor_values_dict will return a dictionary\n",
    "# such that the key = string and the value = list of values\n",
    "\n",
    "\n",
    "# example data to use\n",
    "\n",
    "\n",
    "factor_list = ['A','B','A','D','C','E','E','D','C','D',\n",
    "               'C','B','E','D','F','G','E','D','F','C',\n",
    "               'G','C','C','F']\n",
    "values_list = [19,61,75,66,28,43,52,35,66,86,44,56,1,93,27,47,28,20,12,73,44,32,75,10] \n",
    "# call function\n",
    "def make_factor_values_dict(facto, valu):\n",
    "    factor = facto\n",
    "    value = valu\n",
    "    newd = zip(facto, valu)\n",
    "    dictionary = {}\n",
    "    for x in newd:\n",
    "        [dictionary].append(x)\n",
    "    if [factor] in [dictionary]:\n",
    "        [dictionary[factor]].append([value])\n",
    "    else:\n",
    "        [dictionary[factor]]=[]\n",
    "        [dictionary[factor]].append([value])\n",
    "    return dictionary\n",
    "print make_factor_values_dict(factor_list, values_list)\n",
    "        \n",
    "    \n",
    "\n",
    "#I tried for hours to make the values into a list but i could not figure out how to do it\n",
    "#This is what i theroretically think is close to the right code, i am just having trouble appending and calling\n",
    "#keys from dictionaries in the code "
   ]
  },
  {
   "cell_type": "code",
<<<<<<< HEAD
   "execution_count": 3,
   "metadata": {},
   "outputs": [
    {
     "ename": "ImportError",
     "evalue": "No module named numpy",
     "output_type": "error",
     "traceback": [
      "\u001b[0;31m---------------------------------------------------------------------------\u001b[0m",
      "\u001b[0;31mImportError\u001b[0m                               Traceback (most recent call last)",
      "\u001b[0;32m<ipython-input-3-1d6da2f1930f>\u001b[0m in \u001b[0;36m<module>\u001b[0;34m()\u001b[0m\n\u001b[1;32m     25\u001b[0m \u001b[0;34m\u001b[0m\u001b[0m\n\u001b[1;32m     26\u001b[0m \u001b[0;34m\u001b[0m\u001b[0m\n\u001b[0;32m---> 27\u001b[0;31m \u001b[0mquartiles_list\u001b[0m\u001b[0;34m(\u001b[0m\u001b[0mdata\u001b[0m\u001b[0;34m)\u001b[0m\u001b[0;34m\u001b[0m\u001b[0m\n\u001b[0m",
      "\u001b[0;32m<ipython-input-3-1d6da2f1930f>\u001b[0m in \u001b[0;36mquartiles_list\u001b[0;34m(datalist)\u001b[0m\n\u001b[1;32m     13\u001b[0m     \u001b[0;32mfor\u001b[0m \u001b[0mnumbers\u001b[0m \u001b[0;32min\u001b[0m \u001b[0mdatalist\u001b[0m\u001b[0;34m:\u001b[0m\u001b[0;34m\u001b[0m\u001b[0m\n\u001b[1;32m     14\u001b[0m         \u001b[0mquartiles\u001b[0m\u001b[0;34m.\u001b[0m\u001b[0mappend\u001b[0m\u001b[0;34m(\u001b[0m\u001b[0mnumbers\u001b[0m\u001b[0;34m)\u001b[0m\u001b[0;34m\u001b[0m\u001b[0m\n\u001b[0;32m---> 15\u001b[0;31m     \u001b[0;32mimport\u001b[0m \u001b[0mnumpy\u001b[0m \u001b[0;32mas\u001b[0m \u001b[0mnp\u001b[0m\u001b[0;34m\u001b[0m\u001b[0m\n\u001b[0m\u001b[1;32m     16\u001b[0m     \u001b[0ma\u001b[0m \u001b[0;34m=\u001b[0m \u001b[0mnp\u001b[0m\u001b[0;34m.\u001b[0m\u001b[0marray\u001b[0m\u001b[0;34m(\u001b[0m\u001b[0mdata\u001b[0m\u001b[0;34m)\u001b[0m\u001b[0;34m\u001b[0m\u001b[0m\n\u001b[1;32m     17\u001b[0m     \u001b[0mq1\u001b[0m \u001b[0;34m=\u001b[0m \u001b[0mnp\u001b[0m\u001b[0;34m.\u001b[0m\u001b[0mpercentile\u001b[0m\u001b[0;34m(\u001b[0m\u001b[0ma\u001b[0m\u001b[0;34m,\u001b[0m\u001b[0;36m25\u001b[0m\u001b[0;34m)\u001b[0m\u001b[0;34m\u001b[0m\u001b[0m\n",
      "\u001b[0;31mImportError\u001b[0m: No module named numpy"
=======
   "execution_count": 145,
   "metadata": {},
   "outputs": [
    {
     "ename": "NameError",
     "evalue": "name 'quartiles_list' is not defined",
     "output_type": "error",
     "traceback": [
      "\u001b[1;31m---------------------------------------------------------------------------\u001b[0m",
      "\u001b[1;31mNameError\u001b[0m                                 Traceback (most recent call last)",
      "\u001b[1;32m<ipython-input-145-51edb77528b2>\u001b[0m in \u001b[0;36m<module>\u001b[1;34m()\u001b[0m\n\u001b[0;32m      9\u001b[0m \u001b[0mdata\u001b[0m \u001b[1;33m=\u001b[0m \u001b[1;33m[\u001b[0m\u001b[1;36m19\u001b[0m\u001b[1;33m,\u001b[0m\u001b[1;36m61\u001b[0m\u001b[1;33m,\u001b[0m\u001b[1;36m75\u001b[0m\u001b[1;33m,\u001b[0m\u001b[1;36m66\u001b[0m\u001b[1;33m,\u001b[0m\u001b[1;36m28\u001b[0m\u001b[1;33m,\u001b[0m\u001b[1;36m43\u001b[0m\u001b[1;33m,\u001b[0m\u001b[1;36m52\u001b[0m\u001b[1;33m,\u001b[0m\u001b[1;36m35\u001b[0m\u001b[1;33m,\u001b[0m\u001b[1;36m66\u001b[0m\u001b[1;33m,\u001b[0m\u001b[1;36m86\u001b[0m\u001b[1;33m,\u001b[0m\u001b[1;36m44\u001b[0m\u001b[1;33m,\u001b[0m\u001b[1;36m56\u001b[0m\u001b[1;33m,\u001b[0m\u001b[1;36m1\u001b[0m\u001b[1;33m,\u001b[0m\u001b[1;36m93\u001b[0m\u001b[1;33m,\u001b[0m\u001b[1;36m27\u001b[0m\u001b[1;33m,\u001b[0m\u001b[1;36m47\u001b[0m\u001b[1;33m,\u001b[0m\u001b[1;36m28\u001b[0m\u001b[1;33m,\u001b[0m\u001b[1;36m20\u001b[0m\u001b[1;33m,\u001b[0m\u001b[1;36m12\u001b[0m\u001b[1;33m,\u001b[0m\u001b[1;36m73\u001b[0m\u001b[1;33m,\u001b[0m\u001b[1;36m44\u001b[0m\u001b[1;33m]\u001b[0m\u001b[1;33m\u001b[0m\u001b[0m\n\u001b[0;32m     10\u001b[0m \u001b[1;31m# call function\u001b[0m\u001b[1;33m\u001b[0m\u001b[1;33m\u001b[0m\u001b[0m\n\u001b[1;32m---> 11\u001b[1;33m \u001b[0mquartiles_list\u001b[0m\u001b[1;33m(\u001b[0m\u001b[0mdata\u001b[0m\u001b[1;33m)\u001b[0m\u001b[1;33m\u001b[0m\u001b[0m\n\u001b[0m",
      "\u001b[1;31mNameError\u001b[0m: name 'quartiles_list' is not defined"
>>>>>>> d092e82bd064b924d0c7d893089b0469e22da5b1
     ]
    }
   ],
   "source": [
    "# Question 9: (6 points)\n",
    "# create a function called \"quartiles_list\" that\n",
    "# takes one argument, a list of numbers.\n",
    "# this function will summarize the elements in \n",
    "# the list by printing the quartiles (Q1, Q2, Q3)\n",
    "\n",
    "\n",
    "# example data to use\n",
    "data = [19,61,75,66,28,43,52,35,66,86,44,56,1,93,27,47,28,20,12,73,44] \n",
    "# call function\n",
<<<<<<< HEAD
    "\n",
    "def quartiles_list(datalist):     #define function\n",
    "    quartiles = []\n",
    "    for numbers in datalist:      #for loop\n",
    "        quartiles.append(numbers)\n",
    "    import numpy as np            #import numpy\n",
    "    a = np.array(data)\n",
    "    q1 = np.percentile(a,25)\n",
    "    q2 = np.percentile(a,50)\n",
    "    q3 = np.percentile(a,75)\n",
    "    \n",
    "    print(q1)\n",
    "    print(q2)                     #print\n",
    "    print(q3)\n",
    "    return;                       #return\n",
    "\n",
    "    \n",
=======
>>>>>>> d092e82bd064b924d0c7d893089b0469e22da5b1
    "quartiles_list(data)\n"
   ]
  },
  {
   "cell_type": "code",
   "execution_count": null,
   "metadata": {
    "collapsed": true
   },
   "outputs": [],
   "source": []
  },
  {
   "cell_type": "code",
   "execution_count": 136,
   "metadata": {},
   "outputs": [
    {
     "name": "stdout",
     "output_type": "stream",
     "text": [
      "[27.0, 43.0, 52.0, 66.0]\n"
     ]
    }
   ],
   "source": [
    "# Question 10: (6 points)\n",
    "# create a function called \"percentile_list\" that\n",
    "# takes one argument, a list of numbers.\n",
    "# this function will summarize the elements in \n",
    "# the list by printing the percentiles (20%, 40%, 60%, 80%)\n",
    "\n",
    "\n",
    "# example data to use\n",
    "data = [19,61,75,66,28,43,52,35,66,86,44,56,1,93,27,47,28,20,12,73,44] \n",
    "# call function\n",
    "def percentile_list(data1):\n",
    "    percent=[]\n",
    "    import numpy as np\n",
    "    a= np.array(data1)\n",
    "    p= np.percentile(a,20)\n",
    "    q= np.percentile(a,40)\n",
    "    r= np.percentile(a,60)\n",
    "    s= np.percentile(a,80)\n",
    "    percent.append(p)\n",
    "    percent.append(q)\n",
    "    percent.append(r)\n",
    "    percent.append(s)\n",
    "    return percent\n",
    "print percentile_list(data)\n",
    "#I used the numpy function to get the percentile numbers for this function\n",
    "#I called the function percentile_list at the beggining of the code"
   ]
  },
  {
   "cell_type": "code",
<<<<<<< HEAD
   "execution_count": 5,
   "metadata": {},
   "outputs": [
    {
     "name": "stdout",
     "output_type": "stream",
     "text": [
      "[0, 0, 0, 0, 0, 0, 0, 0, 0, 0, 0, 0, 0, 0, 0, 0, 0, 0, 0, 0, 0]\n"
     ]
    }
   ],
=======
   "execution_count": null,
   "metadata": {},
   "outputs": [],
   "source": []
  },
  {
   "cell_type": "code",
   "execution_count": null,
   "metadata": {
    "collapsed": true
   },
   "outputs": [],
>>>>>>> d092e82bd064b924d0c7d893089b0469e22da5b1
   "source": [
    "# Question 11: (8 points)\n",
    "# create a function called \"center_list\" that\n",
    "# takes one required argument, a list of numbers\n",
    "# and an optional argument, a number to center on.\n",
    "# this function will return a list that has moved all values such that the\n",
    "# mean of the elements is either 0 (Zero) if no option is\n",
    "# provided or the value provided as an optional argument.\n",
    "\n",
    "\n",
    "# example data to use\n",
    "data = [19,61,75,66,28,43,52,35,66,86,44,56,1,93,27,47,28,20,12,73,44] \n",
<<<<<<< HEAD
    "\n",
    "def shift_list(mydata):   #Define function\n",
    "    list1 = []            #Create list\n",
    "    for x in mydata:      #for loop\n",
    "        list1.append(x*0)\n",
    "    return list1\n",
    "print shift_list(data)     #Call Function "
=======
    "# call function\n",
    "center_list(data)\n",
    "center_list(data, center=5)"
>>>>>>> d092e82bd064b924d0c7d893089b0469e22da5b1
   ]
  },
  {
   "cell_type": "code",
   "execution_count": 169,
   "metadata": {},
   "outputs": [
    {
     "name": "stdout",
     "output_type": "stream",
     "text": [
      "[0.0, 0.0, 0.0, 0.0, 0.0, 0.0, 0.0, 0.0, 0.0, 0.0, 0.0, 0.0, 0.0, 1.0, 0.0, 0.0, 0.0, 0.0, 0.0, 0.0, 0.0]\n"
     ]
    }
   ],
   "source": [
    "# Question 12: (8 points)\n",
    "# create a function called \"scale_list\" that\n",
    "# takes one required argument, a list of numbers\n",
    "# and an optional argument, a maximum value for the range.\n",
    "# this function will return a list that has moved all values such that the\n",
    "# range of the elements is either 1 (Zero through one) if no option is\n",
    "# provided or the range is zero through the value provided \n",
    "# as an optional argument.\n",
    "\n",
    "\n",
    "# example data to use\n",
    "data = [19,61,75,66,28,43,52,35,66,86,44,56,1,93,27,47,28,20,12,73,44] \n",
    "# call function\n",
    "def scale_list(data1, max_range=1):\n",
    "    newl=[]\n",
    "    Range=(max(data1)-min(data1))\n",
    "    for x in data1:\n",
    "        newl.append(float(x/max(data1)))\n",
    "    return newl\n",
    "print scale_list(data, max_range=1) \n",
    "        \n",
    "        \n",
    "\n",
    "\n",
    "\n",
    "    \n",
    "#I did what your supposed to do when bringing the range within one of the max but for some reason it wont give\n",
    "#me the whole float value but i find this to be close enough at this point"
   ]
  },
  {
   "cell_type": "code",
<<<<<<< HEAD
   "execution_count": 11,
   "metadata": {},
   "outputs": [
    {
     "ename": "ImportError",
     "evalue": "No module named _future_",
     "output_type": "error",
     "traceback": [
      "\u001b[0;31m---------------------------------------------------------------------------\u001b[0m",
      "\u001b[0;31mImportError\u001b[0m                               Traceback (most recent call last)",
      "\u001b[0;32m<ipython-input-11-325907a9755f>\u001b[0m in \u001b[0;36m<module>\u001b[0;34m()\u001b[0m\n\u001b[1;32m      7\u001b[0m \u001b[0;31m# three values.\u001b[0m\u001b[0;34m\u001b[0m\u001b[0;34m\u001b[0m\u001b[0m\n\u001b[1;32m      8\u001b[0m \u001b[0;34m\u001b[0m\u001b[0m\n\u001b[0;32m----> 9\u001b[0;31m \u001b[0;32mfrom\u001b[0m \u001b[0m_future_\u001b[0m \u001b[0;32mimport\u001b[0m \u001b[0mdivision\u001b[0m\u001b[0;34m\u001b[0m\u001b[0m\n\u001b[0m\u001b[1;32m     10\u001b[0m \u001b[0;34m\u001b[0m\u001b[0m\n\u001b[1;32m     11\u001b[0m \u001b[0mdata\u001b[0m \u001b[0;34m=\u001b[0m \u001b[0;34m[\u001b[0m\u001b[0;36m19\u001b[0m\u001b[0;34m,\u001b[0m\u001b[0;36m61\u001b[0m\u001b[0;34m,\u001b[0m\u001b[0;36m75\u001b[0m\u001b[0;34m,\u001b[0m\u001b[0;36m66\u001b[0m\u001b[0;34m,\u001b[0m\u001b[0;36m28\u001b[0m\u001b[0;34m,\u001b[0m\u001b[0;36m43\u001b[0m\u001b[0;34m,\u001b[0m\u001b[0;36m52\u001b[0m\u001b[0;34m,\u001b[0m\u001b[0;36m35\u001b[0m\u001b[0;34m,\u001b[0m\u001b[0;36m66\u001b[0m\u001b[0;34m,\u001b[0m\u001b[0;36m86\u001b[0m\u001b[0;34m,\u001b[0m\u001b[0;36m44\u001b[0m\u001b[0;34m,\u001b[0m\u001b[0;36m56\u001b[0m\u001b[0;34m,\u001b[0m\u001b[0;36m1\u001b[0m\u001b[0;34m,\u001b[0m\u001b[0;36m93\u001b[0m\u001b[0;34m,\u001b[0m\u001b[0;36m27\u001b[0m\u001b[0;34m,\u001b[0m\u001b[0;36m47\u001b[0m\u001b[0;34m,\u001b[0m\u001b[0;36m28\u001b[0m\u001b[0;34m,\u001b[0m\u001b[0;36m20\u001b[0m\u001b[0;34m,\u001b[0m\u001b[0;36m12\u001b[0m\u001b[0;34m,\u001b[0m\u001b[0;36m73\u001b[0m\u001b[0;34m,\u001b[0m\u001b[0;36m44\u001b[0m\u001b[0;34m]\u001b[0m\u001b[0;34m\u001b[0m\u001b[0m\n",
      "\u001b[0;31mImportError\u001b[0m: No module named _future_"
     ]
    }
   ],
=======
   "execution_count": null,
   "metadata": {
    "collapsed": true
   },
   "outputs": [],
>>>>>>> d092e82bd064b924d0c7d893089b0469e22da5b1
   "source": [
    "# Question 13: (8 points)\n",
    "# create a function called \"summarize_list\" that\n",
    "# that takes one argument, a list of numbers and one optional\n",
    "# arguement \"verbose\", where if True the summary stats will \n",
    "# be print to screen.  the summary stats of interest are \n",
    "# the min, max, and mean. this function will return all\n",
    "# three values.\n",
    " \n",
<<<<<<< HEAD
    "from _future_ import division\n",
    "\n",
    "data = [19,61,75,66,28,43,52,35,66,86,44,56,1,93,27,47,28,20,12,73,44]    \n",
=======
>>>>>>> d092e82bd064b924d0c7d893089b0469e22da5b1
    "\n",
    "summarize_list=[]\n",
    "verbose = true\n",
    "if verbose:                       #if else\n",
    "    def verboseprint(*args):      #def verbose\n",
    "        for x in args:            #for loop\n",
    "            print x,\n",
    "        print\n",
    "else:\n",
    "    verboseprint = lambda *a: None\n",
    "max_value= max(data)\n",
    "mix_value= min(data)\n",
    "avg_value= sum(data)/len(data)\n",
    "summarize_list.append(max_value)\n",
    "summarize_list.append(min_value)\n",
    "summarize_list.append(avg_value)\n",
    "print(summarize_list)\n",
    "        \n",
    "\n",
<<<<<<< HEAD
    "\n"
=======
    "# example data to use\n",
    "data = [19,61,75,66,28,43,52,35,66,86,44,56,1,93,27,47,28,20,12,73,44] \n",
    "# call function\n",
    "minval, maxval, meanval = summarize_list(data)\n",
    "minval, maxval, meanval = summarize_list(data, verbose=True)\n"
>>>>>>> d092e82bd064b924d0c7d893089b0469e22da5b1
   ]
  },
  {
   "cell_type": "code",
<<<<<<< HEAD
   "execution_count": 9,
   "metadata": {},
   "outputs": [
    {
     "ename": "NameError",
     "evalue": "name 'compute_quartiles' is not defined",
     "output_type": "error",
     "traceback": [
      "\u001b[0;31m---------------------------------------------------------------------------\u001b[0m",
      "\u001b[0;31mNameError\u001b[0m                                 Traceback (most recent call last)",
      "\u001b[0;32m<ipython-input-9-7a8ab25c071a>\u001b[0m in \u001b[0;36m<module>\u001b[0;34m()\u001b[0m\n\u001b[1;32m     12\u001b[0m \u001b[0mdata\u001b[0m \u001b[0;34m=\u001b[0m \u001b[0;34m[\u001b[0m\u001b[0;36m19\u001b[0m\u001b[0;34m,\u001b[0m\u001b[0;36m61\u001b[0m\u001b[0;34m,\u001b[0m\u001b[0;36m75\u001b[0m\u001b[0;34m,\u001b[0m\u001b[0;36m66\u001b[0m\u001b[0;34m,\u001b[0m\u001b[0;36m28\u001b[0m\u001b[0;34m,\u001b[0m\u001b[0;36m43\u001b[0m\u001b[0;34m,\u001b[0m\u001b[0;36m52\u001b[0m\u001b[0;34m,\u001b[0m\u001b[0;36m35\u001b[0m\u001b[0;34m,\u001b[0m\u001b[0;36m66\u001b[0m\u001b[0;34m,\u001b[0m\u001b[0;36m86\u001b[0m\u001b[0;34m,\u001b[0m\u001b[0;36m44\u001b[0m\u001b[0;34m,\u001b[0m\u001b[0;36m56\u001b[0m\u001b[0;34m,\u001b[0m\u001b[0;36m1\u001b[0m\u001b[0;34m,\u001b[0m\u001b[0;36m93\u001b[0m\u001b[0;34m,\u001b[0m\u001b[0;36m27\u001b[0m\u001b[0;34m,\u001b[0m\u001b[0;36m47\u001b[0m\u001b[0;34m,\u001b[0m\u001b[0;36m28\u001b[0m\u001b[0;34m,\u001b[0m\u001b[0;36m20\u001b[0m\u001b[0;34m,\u001b[0m\u001b[0;36m12\u001b[0m\u001b[0;34m,\u001b[0m\u001b[0;36m73\u001b[0m\u001b[0;34m,\u001b[0m\u001b[0;36m44\u001b[0m\u001b[0;34m]\u001b[0m\u001b[0;34m\u001b[0m\u001b[0m\n\u001b[1;32m     13\u001b[0m \u001b[0;31m# call function\u001b[0m\u001b[0;34m\u001b[0m\u001b[0;34m\u001b[0m\u001b[0m\n\u001b[0;32m---> 14\u001b[0;31m \u001b[0mq1\u001b[0m\u001b[0;34m,\u001b[0m \u001b[0mq2\u001b[0m\u001b[0;34m,\u001b[0m \u001b[0mq3\u001b[0m \u001b[0;34m=\u001b[0m \u001b[0mcompute_quartiles\u001b[0m\u001b[0;34m(\u001b[0m\u001b[0mdata\u001b[0m\u001b[0;34m)\u001b[0m\u001b[0;34m\u001b[0m\u001b[0m\n\u001b[0m\u001b[1;32m     15\u001b[0m \u001b[0mq1\u001b[0m\u001b[0;34m,\u001b[0m \u001b[0mq2\u001b[0m\u001b[0;34m,\u001b[0m \u001b[0mq3\u001b[0m \u001b[0;34m=\u001b[0m \u001b[0mcompute_quartiles\u001b[0m\u001b[0;34m(\u001b[0m\u001b[0mdata\u001b[0m\u001b[0;34m,\u001b[0m \u001b[0mverbose\u001b[0m\u001b[0;34m=\u001b[0m\u001b[0mTrue\u001b[0m\u001b[0;34m)\u001b[0m\u001b[0;34m\u001b[0m\u001b[0m\n",
      "\u001b[0;31mNameError\u001b[0m: name 'compute_quartiles' is not defined"
=======
   "execution_count": 134,
   "metadata": {},
   "outputs": [
    {
     "name": "stdout",
     "output_type": "stream",
     "text": [
      "[28.0, 44.0, 66.0]\n"
>>>>>>> d092e82bd064b924d0c7d893089b0469e22da5b1
     ]
    }
   ],
   "source": [
    "# Question 14: (8 points)\n",
    "# create a function called \"compute_quartiles\" that\n",
    "# that takes one argument, a list of numbers and one optional\n",
    "# arguement \"verbose\", where if True the summary stats will \n",
    "# be print to screen.  the quartiles of interest are \n",
    "# Q1, Q2 an Q3. this function will return all\n",
    "# three values.\n",
    "# example data to use\n",
    "data = [19,61,75,66,28,43,52,35,66,86,44,56,1,93,27,47,28,20,12,73,44] \n",
    "# call function\n",
    "def compute_quartiles(data1, verbose=True):\n",
    "    compu=[]\n",
    "    import numpy as np\n",
    "    a = np.array([data1])\n",
    "    q1 = np.percentile(a, 25)\n",
    "    q2 = np.percentile(a, 50)\n",
    "    q3 = np.percentile(a,75)\n",
    "    compu.append(q1)\n",
    "    compu.append(q2)\n",
    "    compu.append(q3)\n",
    "    return compu\n",
    "print compute_quartiles(data)\n",
    "\n",
    "#The verbose function was used to organize the data\n",
    "#i used the numpy function for percentile to calculate these numbers\n"
   ]
  },
  {
   "cell_type": "code",
   "execution_count": null,
   "metadata": {
    "collapsed": true
   },
   "outputs": [],
   "source": [
    "center_subset_values=[]\n",
    "minval=min(values_list)\n",
    "maxval=max(values_list)\n",
    "mean=sum(values_list)/len(values_list)\n",
    "for n in data:\n",
    "    center_subset_values= data.center(24,0)"
   ]
  },
  {
   "cell_type": "code",
   "execution_count": null,
   "metadata": {
    "collapsed": true
   },
   "outputs": [],
   "source": [
    "# Question 15: (10 points)\n",
    "# create a function called \"scale_subset_list\" that\n",
    "# that takes two argument, a list of factors and a list of values\n",
    "# and an optional argument 'include', a set containing the factors to be scaled.\n",
    "# if no set is provided, all factors will be included.\n",
    "# this function will for each factor level scale the values corresponding\n",
    "# to the factor to a range of zero through one. The scaled values for\n",
    "# each factor of interest will be summrized (min,max,mean) and print to screen.\n",
    "# two lists, one containing the centered values and one containing the factors \n",
    "# for the factor levels of interest will be returned.\n",
    "\n",
    "\n",
    "# example data to use\n",
    "factor_list = ['A','B','A','D','C','E','E','D','C','D',\n",
    "               'C','B','E','D','F','G','E','D','F','C',\n",
    "               'G','C','C','F']\n",
    "values_list = [19,61,75,66,28,43,52,35,66,86,44,56,1,93,27,47,28,20,12,73,44,32,75,10] \n",
    "# call function\n",
<<<<<<< HEAD
    "\n",
    "def scale_subset_list(values, factors, **kwargs):\n",
    "    subsetlist = kwargs.get('include')\n",
    "    factorsofinterest = []\n",
    "    valuesofinterest = []\n",
    "    myfactors = []\n",
    "    if subsetlist:\n",
    "        myfactors = subsetlist\n",
    "    else:\n",
    "        myfactors = factors\n",
    "    for index in range(len(factors)):\n",
    "        if factors[index] in myfactors:\n",
    "            factorsofinterest.append(factors[index])\n",
    "            valuesofinterest.append(factors[index]);\n",
    "    scaledfactors = []\n",
    "    scaledvals = [[] for x in xrange(0,len(factorsofinterest))]\n",
    "    for index in range(len(factorsofinterest)):\n",
    "        if factorsofinterest[index] not in scaledfactors:\n",
    "            scaledfactors.append(factorsofinterest[index])\n",
    "            scaledvals[index].append(valuesofinterest[index])\n",
    "        else:\n",
    "            scaledvals[index].append(valuesofinterest[index])\n",
    "    return scaledvals, scaledfactors;\n",
    "\n",
    "scale_subset_list(values_list, factor_list)\n"
=======
    "scale_subset_list(values_list, factor_list)\n",
    "scale_values, subset_factors = scale_subset_list(values_list, factor_list, include=set(['A','B','C']))\n"
>>>>>>> d092e82bd064b924d0c7d893089b0469e22da5b1
   ]
  },
  {
   "cell_type": "code",
   "execution_count": 166,
   "metadata": {},
   "outputs": [
    {
     "name": "stdout",
     "output_type": "stream",
     "text": [
      "[-26, 16, 30, 21, -17, -2, 7, -10, 21, 41, -1, 11, -44, 48, -18, 2, -17, -25, -33, 28, -1, -13, 30, -35]\n"
     ]
    }
   ],
   "source": [
    "# Question 16: (10 points)\n",
    "# create a function called \"center_subset_list\" that\n",
    "# that takes two argument, a list of factors and a list of values\n",
    "# and an optional argument 'include', a set containing the factors to be centered.\n",
    "# if no set is provided, all factors will be included.\n",
    "# this function will for each factor level center the values corresponding\n",
    "# to the factor to zero. The scaled values for\n",
    "# each factor of interest will be summrized (min,max,mean) and print to screen. \n",
    "# two lists, one containing the centered values and one containing the factors\n",
    "#for the factor levels of interest will be returned.\n",
    "\n",
    "\n",
    "# example data to use\n",
    "factor_list = ['A','B','A','D','C','E','E','D','C','D',\n",
    "               'C','B','E','D','F','G','E','D','F','C',\n",
    "               'G','C','C','F']\n",
    "values_list = [19,61,75,66,28,43,52,35,66,86,44,56,1,93,27,47,28,20,12,73,44,32,75,10] \n",
    "# call function \n",
    "def center_subset_list(a_list, b_list):\n",
    "    newl=[]\n",
    "    mean = sum(b_list)/len(b_list)\n",
    "    max(b_list)\n",
    "    min(b_list)\n",
    "    for x in b_list:\n",
    "        newl.append(x-mean)\n",
    "    return newl\n",
    "print center_subset_list(factor_list, values_list)\n",
    "\n",
    "\n",
    "#I really need help creating dictionaries in code at this point\n",
    "#I found the max min and mean of every value in that list and just centered everything at 0\n",
    "\n"
   ]
  },
  {
   "cell_type": "code",
   "execution_count": null,
   "metadata": {
    "collapsed": true
   },
   "outputs": [],
   "source": [
    "# Question 17: (15 points) (both partners must participate)\n",
    "\n",
    "# 1. Create a group repository for the class project\n",
    "# 2. Add partner and instructor (@ategge) to the repository\n",
    "# 3. Decide on two complementary data sets to use in the project. \n",
    "#    Data sets are complimentary if they contain different information\n",
    "#    but have one column in common between the two data sets. For example,\n",
    "#    a data set on city crime rates and another data set on city census information.\n",
    "# 4. Create a Readme file (can be done automatically when publishing repo)\n",
    "#    that describes the data sets selected and the hypotheses/research questions\n",
    "#    to ask of the data.\n",
    "# 5. Both partners must make commits (with informative messages) to this repository\n",
    "#    prior to the homework deadline.\n",
    "# 6. Begin outlining the work required to complete the project and start assigning\n",
    "#    different tasks to each partner.\n",
    "# 7. Include the link to the repository below.\n"
   ]
  }
 ],
 "metadata": {
  "kernelspec": {
   "display_name": "Python 2",
   "language": "python",
   "name": "python2"
  },
  "language_info": {
   "codemirror_mode": {
    "name": "ipython",
    "version": 2
   },
   "file_extension": ".py",
   "mimetype": "text/x-python",
   "name": "python",
   "nbconvert_exporter": "python",
   "pygments_lexer": "ipython2",
   "version": "2.7.14"
  }
 },
 "nbformat": 4,
 "nbformat_minor": 2
}
